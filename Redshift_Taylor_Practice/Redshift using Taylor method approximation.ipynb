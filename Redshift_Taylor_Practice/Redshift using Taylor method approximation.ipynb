{
 "cells": [
  {
   "cell_type": "code",
   "execution_count": 5,
   "metadata": {
    "collapsed": false
   },
   "outputs": [],
   "source": [
    "# Comoving distance was found to be equal to 1,619 Mpc for the len 'z'.\n",
    "# Comoving distance was found to be equal to 3,729.5 Mpc for the source 'z'."
   ]
  },
  {
   "cell_type": "code",
   "execution_count": 82,
   "metadata": {
    "collapsed": false
   },
   "outputs": [],
   "source": [
    "import numpy as np\n",
    "from astropy import constants as const\n",
    "from decimal import *\n",
    "import scipy.integrate as integrate\n",
    "import scipy.integrate as odeint\n",
    "import scipy.special as special\n",
    "from numpy import sqrt, sin, cos, pi\n",
    "from astropy import units as u\n",
    "import sympy as sy\n",
    "from scipy.integrate import quad\n",
    "import matplotlib as mp\n",
    "from units import unit\n",
    "import math\n",
    "from scipy.misc import derivative\n",
    "import matplotlib.pyplot as plt"
   ]
  },
  {
   "cell_type": "code",
   "execution_count": 15,
   "metadata": {
    "collapsed": false
   },
   "outputs": [
    {
     "name": "stdout",
     "output_type": "stream",
     "text": [
      "1619.14781534\n"
     ]
    }
   ],
   "source": [
    "c = 3.0e5\n",
    "G = (const.G.to('m3/(kg s2)'))\n",
    "Ho = 68\n",
    "Constant= c/Ho\n",
    "MD = .3\n",
    "DMD = 0\n",
    "zlens = .5\n",
    "def a(z):\n",
    "    return 1/(1+zlens)\n",
    "Dl = Constant * (2 - 2*sqrt(1/(1+zlens)))\n",
    "print Dl"
   ]
  },
  {
   "cell_type": "code",
   "execution_count": 16,
   "metadata": {
    "collapsed": false
   },
   "outputs": [
    {
     "name": "stdout",
     "output_type": "stream",
     "text": [
      "3729.26233068\n"
     ]
    }
   ],
   "source": [
    "zsource = 2.0\n",
    "Ds = Constant * (2 - 2*sqrt(1/(1+zsource)))\n",
    "print Ds"
   ]
  },
  {
   "cell_type": "code",
   "execution_count": 37,
   "metadata": {
    "collapsed": false
   },
   "outputs": [
    {
     "name": "stdout",
     "output_type": "stream",
     "text": [
      "83.2824430488\n"
     ]
    }
   ],
   "source": [
    "def adot(ab):\n",
    "    Ho = 68\n",
    "    MD = 1\n",
    "    DMD = 0\n",
    "    \n",
    "    return Ho*(((MD/ab)+(DMD*ab**2))**.5)\n",
    "print adot(.66667)\n",
    "\n",
    "def integration(a):\n",
    "    return 1/(adot(ab)*a)\n",
    "z = .5\n",
    "ab = 1/(1+z)"
   ]
  },
  {
   "cell_type": "code",
   "execution_count": 39,
   "metadata": {
    "collapsed": false
   },
   "outputs": [
    {
     "name": "stdout",
     "output_type": "stream",
     "text": [
      "(0.004868542271408928, 5.40516772607905e-17)\n"
     ]
    }
   ],
   "source": [
    "S = quad(integration,ab,1)\n",
    "print S"
   ]
  },
  {
   "cell_type": "markdown",
   "metadata": {
    "collapsed": false
   },
   "source": [
    "# Use Taylor method to approximate equation for redshift of lens and source."
   ]
  },
  {
   "cell_type": "code",
   "execution_count": 24,
   "metadata": {
    "collapsed": false
   },
   "outputs": [],
   "source": [
    "equat1 = [2 - 2*sqrt(1/(1+zlens))]"
   ]
  },
  {
   "cell_type": "code",
   "execution_count": 29,
   "metadata": {
    "collapsed": false
   },
   "outputs": [
    {
     "name": "stdout",
     "output_type": "stream",
     "text": [
      "<function taylor at 0x118de8758>\n"
     ]
    }
   ],
   "source": [
    "z = sy.Symbol('z')\n",
    "func = 2 - 2*(1/(1+z)**(1/2))\n",
    "\n",
    "def taylor(function,z0,n):\n",
    "    i = 0\n",
    "    p = 0\n",
    "    while i <= n:\n",
    "        p = p + (function.diff(z,i).subs(z,z0))/(factorial(i))*(z-z0)**i\n",
    "        i += 1\n",
    "    return p\n",
    "print taylor"
   ]
  },
  {
   "cell_type": "markdown",
   "metadata": {
    "collapsed": true
   },
   "source": [
    "# If I have the Einstein Radius I can calculate the mass of the lens in a matter only universe after taking account for the calculation of distance using time delays. "
   ]
  },
  {
   "cell_type": "code",
   "execution_count": 31,
   "metadata": {
    "collapsed": false
   },
   "outputs": [
    {
     "data": {
      "text/latex": [
       "$5.5027168 \\times 10^{-9} \\; \\mathrm{\\frac{m^{3/2}}{kg^{1/2}\\,s}}$"
      ],
      "text/plain": [
       "<Quantity 5.502716840419767e-09 m(3/2) / (kg(1/2) s)>"
      ]
     },
     "execution_count": 31,
     "metadata": {},
     "output_type": "execute_result"
    }
   ],
   "source": [
    "def f(m):\n",
    "    return sqrt((4*G*m/c**2)*(Dl+Ds/Dl*Ds))\n",
    "f(1)"
   ]
  },
  {
   "cell_type": "markdown",
   "metadata": {
    "collapsed": true
   },
   "source": [
    "# Calculation of Proper Distance "
   ]
  },
  {
   "cell_type": "code",
   "execution_count": 141,
   "metadata": {
    "collapsed": false
   },
   "outputs": [
    {
     "name": "stdout",
     "output_type": "stream",
     "text": [
      "34.0\n"
     ]
    }
   ],
   "source": [
    "def adot(a):\n",
    "    return Ho*((MassD/a)+(DMatterD*(a**2.0)))**(1/2.0)\n",
    "Ho = 68.0\n",
    "MassD = 1.0\n",
    "DMatterD = 0.0\n",
    "print adot(4)"
   ]
  },
  {
   "cell_type": "code",
   "execution_count": 128,
   "metadata": {
    "collapsed": false
   },
   "outputs": [
    {
     "name": "stdout",
     "output_type": "stream",
     "text": [
      "4411.76470588\n"
     ]
    }
   ],
   "source": [
    "print Constant"
   ]
  },
  {
   "cell_type": "code",
   "execution_count": 142,
   "metadata": {
    "collapsed": false
   },
   "outputs": [],
   "source": [
    "def integrand(a):\n",
    "    return (1/(a*adot(a)))"
   ]
  },
  {
   "cell_type": "code",
   "execution_count": 143,
   "metadata": {
    "collapsed": false
   },
   "outputs": [
    {
     "name": "stdout",
     "output_type": "stream",
     "text": [
      "(0.005397159384478647, 5.992050616219932e-17)\n"
     ]
    }
   ],
   "source": [
    "z = 0.50\n",
    "amin = 1/(1+z)\n",
    "ami = .667\n",
    "I = quad(integrand,amin,1.0)\n",
    "print I"
   ]
  },
  {
   "cell_type": "code",
   "execution_count": 132,
   "metadata": {
    "collapsed": false
   },
   "outputs": [
    {
     "name": "stdout",
     "output_type": "stream",
     "text": [
      "105048.517431\n"
     ]
    }
   ],
   "source": [
    "Dp = Constant*I[0]\n",
    "print Dp"
   ]
  },
  {
   "cell_type": "code",
   "execution_count": null,
   "metadata": {
    "collapsed": false
   },
   "outputs": [],
   "source": [
    "def g(x):\n",
    "    return x**2\n",
    "\n",
    "quad(g,0,1)"
   ]
  },
  {
   "cell_type": "code",
   "execution_count": null,
   "metadata": {
    "collapsed": false
   },
   "outputs": [],
   "source": [
    "a = .667\n",
    "Ho*sqrt((MassD/a)+(DMD*(a**2)))"
   ]
  },
  {
   "cell_type": "code",
   "execution_count": 44,
   "metadata": {
    "collapsed": false
   },
   "outputs": [
    {
     "name": "stdout",
     "output_type": "stream",
     "text": [
      "18\n"
     ]
    }
   ],
   "source": [
    "def f(b):\n",
    "    return 2*b**2\n",
    "print f(3)\n",
    "\n",
    "def derivative(b):\n",
    "    "
   ]
  },
  {
   "cell_type": "code",
   "execution_count": 74,
   "metadata": {
    "collapsed": false
   },
   "outputs": [
    {
     "data": {
      "text/plain": [
       "4*b"
      ]
     },
     "execution_count": 74,
     "metadata": {},
     "output_type": "execute_result"
    }
   ],
   "source": [
    "b = sy.Symbol('b')\n",
    "sy.diff(2*b**2,b)"
   ]
  },
  {
   "cell_type": "code",
   "execution_count": 79,
   "metadata": {
    "collapsed": false
   },
   "outputs": [
    {
     "name": "stdout",
     "output_type": "stream",
     "text": [
      "12.0\n"
     ]
    }
   ],
   "source": [
    "def f(x):\n",
    "    return 3*x**2+1\n",
    "\n",
    "print derivative(f,2)"
   ]
  },
  {
   "cell_type": "code",
   "execution_count": 80,
   "metadata": {
    "collapsed": false
   },
   "outputs": [
    {
     "data": {
      "text/plain": [
       "24.0"
      ]
     },
     "execution_count": 80,
     "metadata": {},
     "output_type": "execute_result"
    }
   ],
   "source": [
    "def d(x):\n",
    "    return derivative(f,x)\n",
    "\n",
    "d(4)"
   ]
  },
  {
   "cell_type": "code",
   "execution_count": 84,
   "metadata": {
    "collapsed": false
   },
   "outputs": [
    {
     "data": {
      "text/plain": [
       "[<matplotlib.lines.Line2D at 0x119b28ad0>]"
      ]
     },
     "execution_count": 84,
     "metadata": {},
     "output_type": "execute_result"
    },
    {
     "data": {
      "image/png": "[encoded data removed]",
      "text/plain": [
       "<matplotlib.figure.Figure at 0x119b28a90>"
      ]
     },
     "metadata": {},
     "output_type": "display_data"
    }
   ],
   "source": [
    "%matplotlib inline\n",
    "y=np.linspace(-5,5)\n",
    "plt.plot(y,f(y))\n",
    "plt.plot(y,d(y))"
   ]
  },
  {
   "cell_type": "code",
   "execution_count": 114,
   "metadata": {
    "collapsed": false
   },
   "outputs": [
    {
     "name": "stdout",
     "output_type": "stream",
     "text": [
      "<function As at 0x119cf8ed8>\n",
      "(0.367006838144548, 4.074594419029553e-15)\n"
     ]
    }
   ],
   "source": [
    "def As(a):\n",
    "    return sqrt(1/a)\n",
    "print As\n",
    "a = 1/1.5\n",
    "Ass = quad(As,a,1)\n",
    "print Ass"
   ]
  },
  {
   "cell_type": "code",
   "execution_count": null,
   "metadata": {
    "collapsed": false
   },
   "outputs": [],
   "source": []
  },
  {
   "cell_type": "code",
   "execution_count": null,
   "metadata": {
    "collapsed": false
   },
   "outputs": [],
   "source": []
  }
 ],
 "metadata": {
  "kernelspec": {
   "display_name": "Python 2",
   "language": "python",
   "name": "python2"
  },
  "language_info": {
   "codemirror_mode": {
    "name": "ipython",
    "version": 2
   },
   "file_extension": ".py",
   "mimetype": "text/x-python",
   "name": "python",
   "nbconvert_exporter": "python",
   "pygments_lexer": "ipython2",
   "version": "2.7.13"
  }
 },
 "nbformat": 4,
 "nbformat_minor": 2
}
