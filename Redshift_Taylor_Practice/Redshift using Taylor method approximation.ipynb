{
 "cells": [
  {
   "cell_type": "code",
   "execution_count": 34,
   "metadata": {
    "collapsed": false
   },
   "outputs": [],
   "source": [
    "# Comoving distance was found to be equal to 2,205.9 Mpc for the len 'z'.\n",
    "# Comoving distance was found to be equal to 8,823.529 Mpc for the source 'z'.\n",
    "import numpy as np"
   ]
  },
  {
   "cell_type": "code",
   "execution_count": 106,
   "metadata": {
    "collapsed": false
   },
   "outputs": [],
   "source": [
    "import matplotlib as mp\n",
    "from units import unit\n",
    "m = unit('m')\n",
    "s = unit('s')\n",
    "Mpc = unit('Megaparsec')"
   ]
  },
  {
   "cell_type": "code",
   "execution_count": 107,
   "metadata": {
    "collapsed": false
   },
   "outputs": [
    {
     "name": "stdout",
     "output_type": "stream",
     "text": [
      "Help on function unit in module units:\n",
      "\n",
      "unit(specifier)\n",
      "    Main factory for units.\n",
      "    \n",
      "    >>> unit('m') == unit('m')\n",
      "    True\n",
      "    >>> unit('m') != unit('s')\n",
      "    True\n",
      "\n"
     ]
    }
   ],
   "source": [
    "help(unit)"
   ]
  },
  {
   "cell_type": "code",
   "execution_count": 108,
   "metadata": {
    "collapsed": false
   },
   "outputs": [
    {
     "name": "stdout",
     "output_type": "stream",
     "text": [
      "300000.00 m / s\n",
      "68.00 Megaparsec\n",
      "2205.50 m / s * Megaparsec\n"
     ]
    }
   ],
   "source": [
    "c = m(3*(10**5)) / s(1)\n",
    "print c\n",
    "Ho = Mpc(68)\n",
    "print Ho\n",
    "zlens = 0.5\n",
    "dplens = np.divide(c , Ho)*zlens\n",
    "print dplens"
   ]
  },
  {
   "cell_type": "code",
   "execution_count": 73,
   "metadata": {
    "collapsed": false
   },
   "outputs": [
    {
     "name": "stdout",
     "output_type": "stream",
     "text": [
      "8822\n"
     ]
    }
   ],
   "source": [
    "zsource = 2\n",
    "dpsource = np.divide(c , Ho)*zsource\n",
    "print dpsource"
   ]
  },
  {
   "cell_type": "code",
   "execution_count": null,
   "metadata": {
    "collapsed": true
   },
   "outputs": [],
   "source": []
  }
 ],
 "metadata": {
  "kernelspec": {
   "display_name": "Python 2",
   "language": "python",
   "name": "python2"
  },
  "language_info": {
   "codemirror_mode": {
    "name": "ipython",
    "version": 2
   },
   "file_extension": ".py",
   "mimetype": "text/x-python",
   "name": "python",
   "nbconvert_exporter": "python",
   "pygments_lexer": "ipython2",
   "version": "2.7.13"
  }
 },
 "nbformat": 4,
 "nbformat_minor": 2
}
