{
 "cells": [
  {
   "cell_type": "code",
   "execution_count": 88,
   "metadata": {
    "collapsed": false
   },
   "outputs": [],
   "source": [
    "# Comoving distance was found to be equal to 2,205.9 Mpc for the len 'z'.\n",
    "# Comoving distance was found to be equal to 8,823.529 Mpc for the source 'z'.\n",
    "import numpy as np"
   ]
  },
  {
   "cell_type": "code",
   "execution_count": 89,
   "metadata": {
    "collapsed": false
   },
   "outputs": [],
   "source": [
    "import matplotlib as mp\n",
    "from units import unit"
   ]
  },
  {
   "cell_type": "code",
   "execution_count": 107,
   "metadata": {
    "collapsed": false
   },
   "outputs": [],
   "source": [
    "from astropy import constants as const\n",
    "from decimal import *\n",
    "import scipy.integrate as integrate\n",
    "import scipy.special as special\n",
    "from numpy import sqrt, sin, cos, pi\n",
    "from astropy import units as u\n",
    "getcontext().prec = 6"
   ]
  },
  {
   "cell_type": "code",
   "execution_count": 108,
   "metadata": {
    "collapsed": false
   },
   "outputs": [
    {
     "name": "stdout",
     "output_type": "stream",
     "text": [
      "1618.02767809 km / (Mpc s)\n"
     ]
    }
   ],
   "source": [
    "c = (const.c.to('km/s'))\n",
    "Ho = 68 * u.Mpc\n",
    "zlens = 0.5\n",
    "dplens = (c / Ho) * (2 - 2*sqrt(1/(1+zlens)))\n",
    "print dplens"
   ]
  },
  {
   "cell_type": "code",
   "execution_count": 109,
   "metadata": {
    "collapsed": false
   },
   "outputs": [
    {
     "name": "stdout",
     "output_type": "stream",
     "text": [
      "3726.68240214 km / (Mpc s)\n"
     ]
    }
   ],
   "source": [
    "zsource = 2.0\n",
    "dpsource = (c / Ho) * (2 - 2*sqrt(1/(1+zsource)))\n",
    "print dpsource"
   ]
  },
  {
   "cell_type": "markdown",
   "metadata": {
    "collapsed": false
   },
   "source": [
    "# Use Taylor method to approximate equation for redshift of lens and source."
   ]
  },
  {
   "cell_type": "code",
   "execution_count": 111,
   "metadata": {
    "collapsed": false
   },
   "outputs": [],
   "source": [
    "equat2 = [2 - 2 * (1 + zsource)**-(1/2)]"
   ]
  },
  {
   "cell_type": "code",
   "execution_count": 112,
   "metadata": {
    "collapsed": false
   },
   "outputs": [],
   "source": [
    "equat1 = [2 - 2 * (1 + zlens)**-(1/2)]"
   ]
  },
  {
   "cell_type": "code",
   "execution_count": null,
   "metadata": {
    "collapsed": true
   },
   "outputs": [],
   "source": []
  }
 ],
 "metadata": {
  "kernelspec": {
   "display_name": "Python 2",
   "language": "python",
   "name": "python2"
  },
  "language_info": {
   "codemirror_mode": {
    "name": "ipython",
    "version": 2
   },
   "file_extension": ".py",
   "mimetype": "text/x-python",
   "name": "python",
   "nbconvert_exporter": "python",
   "pygments_lexer": "ipython2",
   "version": "2.7.13"
  }
 },
 "nbformat": 4,
 "nbformat_minor": 2
}
