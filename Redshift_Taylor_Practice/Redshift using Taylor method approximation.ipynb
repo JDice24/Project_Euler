{
 "cells": [
  {
   "cell_type": "code",
   "execution_count": 339,
   "metadata": {
    "collapsed": false
   },
   "outputs": [],
   "source": [
    "# Comoving distance was found to be equal to 1,619 Mpc for the len 'z'.\n",
    "# Comoving distance was found to be equal to 3,729.5 Mpc for the source 'z'."
   ]
  },
  {
   "cell_type": "code",
   "execution_count": 340,
   "metadata": {
    "collapsed": false
   },
   "outputs": [],
   "source": [
    "import numpy as np\n",
    "from astropy import constants as const\n",
    "from decimal import *\n",
    "import scipy.integrate as integrate\n",
    "import scipy.integrate as odeint\n",
    "import scipy.special as special\n",
    "from numpy import sqrt, sin, cos, pi\n",
    "from astropy import units as u\n",
    "getcontext().prec = 6\n",
    "import sympy as sy\n",
    "from scipy.integrate import quad\n",
    "import matplotlib as mp\n",
    "from units import unit\n",
    "import math"
   ]
  },
  {
   "cell_type": "code",
   "execution_count": 341,
   "metadata": {
    "collapsed": false
   },
   "outputs": [
    {
     "name": "stdout",
     "output_type": "stream",
     "text": [
      "1619.14781534\n"
     ]
    }
   ],
   "source": [
    "c = 3.0e5\n",
    "G = (const.G.to('m3/(kg s2)'))\n",
    "Ho = 68\n",
    "Constant= c/Ho\n",
    "MD = .3\n",
    "DMD = 0\n",
    "z = .5\n",
    "def a(z):\n",
    "    return 1/(1+z)\n",
    "Dl = Constant * (2 - 2*sqrt(1/(1+z)))\n",
    "print Dl"
   ]
  },
  {
   "cell_type": "code",
   "execution_count": 342,
   "metadata": {
    "collapsed": false
   },
   "outputs": [
    {
     "name": "stdout",
     "output_type": "stream",
     "text": [
      "3729.26233068\n"
     ]
    }
   ],
   "source": [
    "zsource = 2.0\n",
    "Ds = Constant * (2 - 2*sqrt(1/(1+zsource)))\n",
    "print Ds"
   ]
  },
  {
   "cell_type": "code",
   "execution_count": 348,
   "metadata": {
    "collapsed": false
   },
   "outputs": [
    {
     "name": "stdout",
     "output_type": "stream",
     "text": [
      "45.615786741\n"
     ]
    }
   ],
   "source": [
    "def f(x):\n",
    "    Ho = 68\n",
    "    MD = .3\n",
    "    DMD = 0\n",
    "    a = 1/(1+x)\n",
    "    return Ho*(((MD/a)+(DMD*a**2))**.5)\n",
    "xx = 0.5\n",
    "print f(xx)\n",
    "#Funct = 1/(adot*a)\n",
    "#print Funct\n",
    "#print c/Ho\n",
    "#print Dp\n",
    "#def Dp1(Funct,c,Ho):\n",
    "#    return (1/((1/(1+z))*adot))\n",
    "#    z = .5\n",
    "#    adot = Ho*(((MD/a)+(DMD*a**2))**.5)\n",
    "#Dp = quad(Funct, .5, 1,args=(z))\n",
    "#print(Dp)"
   ]
  },
  {
   "cell_type": "markdown",
   "metadata": {
    "collapsed": false
   },
   "source": [
    "# Use Taylor method to approximate equation for redshift of lens and source."
   ]
  },
  {
   "cell_type": "code",
   "execution_count": 344,
   "metadata": {
    "collapsed": false
   },
   "outputs": [],
   "source": [
    "equat1 = [2 - 2*sqrt(1/(1+zlens))]"
   ]
  },
  {
   "cell_type": "code",
   "execution_count": 345,
   "metadata": {
    "collapsed": false
   },
   "outputs": [],
   "source": [
    "z = sy.Symbol('z')\n",
    "f = 2 - 2*(1/(1+z)**(1/2))\n",
    "\n",
    "def taylor(function,z0,n):\n",
    "    i = 0\n",
    "    p = 0\n",
    "    while i <= n:\n",
    "        p = p + (function.diff(z,i).subs(z,z0))/(factorial(i))*(z-z0)**i\n",
    "        i += 1\n",
    "    return p"
   ]
  },
  {
   "cell_type": "code",
   "execution_count": 346,
   "metadata": {
    "collapsed": false
   },
   "outputs": [
    {
     "name": "stdout",
     "output_type": "stream",
     "text": [
      "0.367006838145\n"
     ]
    }
   ],
   "source": [
    "def f(z):\n",
    "    return 2 - 2*sqrt(1/(1+z))\n",
    "print f(0.5)"
   ]
  },
  {
   "cell_type": "markdown",
   "metadata": {
    "collapsed": true
   },
   "source": [
    "# If I have the Einstein Radius I can calculate the mass of the lens in a matter only universe after taking account for the calculation of distance using time delays. "
   ]
  },
  {
   "cell_type": "code",
   "execution_count": 347,
   "metadata": {
    "collapsed": false
   },
   "outputs": [
    {
     "ename": "SyntaxError",
     "evalue": "can't assign to function call (<ipython-input-347-23d2ca44564e>, line 3)",
     "output_type": "error",
     "traceback": [
      "\u001b[0;36m  File \u001b[0;32m\"<ipython-input-347-23d2ca44564e>\"\u001b[0;36m, line \u001b[0;32m3\u001b[0m\n\u001b[0;31m    f(m) =2\u001b[0m\n\u001b[0;31mSyntaxError\u001b[0m\u001b[0;31m:\u001b[0m can't assign to function call\n"
     ]
    }
   ],
   "source": [
    "def f(m):\n",
    "    return sqrt((4*G*m/c**2)*(Dl+Ds/Dl*Ds))\n",
    "f(m) =2"
   ]
  },
  {
   "cell_type": "markdown",
   "metadata": {
    "collapsed": true
   },
   "source": [
    "# Calculation of Proper Distance "
   ]
  },
  {
   "cell_type": "code",
   "execution_count": null,
   "metadata": {
    "collapsed": false
   },
   "outputs": [],
   "source": [
    "print Ho\n",
    "MassD = 0.3\n",
    "DMD = 0\n",
    "def f(a):\n",
    "    return Ho*((MassD/a+(DMD*(a**2))))**(.5)\n",
    "print Ho"
   ]
  },
  {
   "cell_type": "code",
   "execution_count": null,
   "metadata": {
    "collapsed": false
   },
   "outputs": [],
   "source": [
    "print Ho"
   ]
  },
  {
   "cell_type": "code",
   "execution_count": null,
   "metadata": {
    "collapsed": false
   },
   "outputs": [],
   "source": [
    "def integrand(a):\n",
    "    return 1/(a*f(a))"
   ]
  },
  {
   "cell_type": "code",
   "execution_count": 350,
   "metadata": {
    "collapsed": false
   },
   "outputs": [
    {
     "name": "stdout",
     "output_type": "stream",
     "text": [
      "58.8897274573\n",
      "0.0311771796946\n"
     ]
    },
    {
     "data": {
      "text/plain": [
       "(0.008062871069104739, 8.951585105504133e-17)"
      ]
     },
     "execution_count": 350,
     "metadata": {},
     "output_type": "execute_result"
    }
   ],
   "source": [
    "print f(1.5)\n",
    "print integrand(.667)\n",
    "quad(integrand,.667,1.0)"
   ]
  },
  {
   "cell_type": "code",
   "execution_count": null,
   "metadata": {
    "collapsed": false
   },
   "outputs": [],
   "source": [
    "Dp = Constant\n",
    "print Dp"
   ]
  },
  {
   "cell_type": "code",
   "execution_count": null,
   "metadata": {
    "collapsed": false
   },
   "outputs": [],
   "source": [
    "def g(x):\n",
    "    return x**2\n",
    "\n",
    "quad(g,0,1)"
   ]
  },
  {
   "cell_type": "code",
   "execution_count": null,
   "metadata": {
    "collapsed": true
   },
   "outputs": [],
   "source": []
  }
 ],
 "metadata": {
  "kernelspec": {
   "display_name": "Python 2",
   "language": "python",
   "name": "python2"
  },
  "language_info": {
   "codemirror_mode": {
    "name": "ipython",
    "version": 2
   },
   "file_extension": ".py",
   "mimetype": "text/x-python",
   "name": "python",
   "nbconvert_exporter": "python",
   "pygments_lexer": "ipython2",
   "version": "2.7.13"
  }
 },
 "nbformat": 4,
 "nbformat_minor": 2
}
