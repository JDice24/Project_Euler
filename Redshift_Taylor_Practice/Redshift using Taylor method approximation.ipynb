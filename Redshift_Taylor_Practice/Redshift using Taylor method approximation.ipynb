{
 "cells": [
  {
   "cell_type": "code",
   "execution_count": 1,
   "metadata": {
    "collapsed": false
   },
   "outputs": [],
   "source": [
    "# Comoving distance was found to be equal to 2,205.9 Mpc for the len 'z'.\n",
    "# Comoving distance was found to be equal to 8,823.529 Mpc for the source 'z'.\n",
    "import numpy as np"
   ]
  },
  {
   "cell_type": "code",
   "execution_count": 2,
   "metadata": {
    "collapsed": false
   },
   "outputs": [],
   "source": [
    "import matplotlib as mp\n",
    "from units import unit\n"
   ]
  },
  {
   "cell_type": "code",
   "execution_count": 18,
   "metadata": {
    "collapsed": false
   },
   "outputs": [],
   "source": [
    "from astropy import constants as const\n",
    "from decimal import *\n",
    "import scipy.integrate as integrate\n",
    "import scipy.integrate as odeint\n",
    "import scipy.special as special\n",
    "from numpy import sqrt, sin, cos, pi\n",
    "from astropy import units as u\n",
    "getcontext().prec = 6"
   ]
  },
  {
   "cell_type": "code",
   "execution_count": 4,
   "metadata": {
    "collapsed": false
   },
   "outputs": [
    {
     "ename": "NameError",
     "evalue": "name 'dplens' is not defined",
     "output_type": "error",
     "traceback": [
      "\u001b[0;31m------------------------------------------------------------------------\u001b[0m",
      "\u001b[0;31mNameError\u001b[0m                              Traceback (most recent call last)",
      "\u001b[0;32m<ipython-input-4-6f69fe01dded>\u001b[0m in \u001b[0;36m<module>\u001b[0;34m()\u001b[0m\n\u001b[1;32m      5\u001b[0m \u001b[0mConstant\u001b[0m\u001b[0;34m=\u001b[0m \u001b[0mc\u001b[0m\u001b[0;34m/\u001b[0m\u001b[0mHo\u001b[0m\u001b[0;34m\u001b[0m\u001b[0m\n\u001b[1;32m      6\u001b[0m \u001b[0mDl\u001b[0m \u001b[0;34m=\u001b[0m \u001b[0mConstant\u001b[0m \u001b[0;34m*\u001b[0m \u001b[0;34m(\u001b[0m\u001b[0;36m2\u001b[0m \u001b[0;34m-\u001b[0m \u001b[0;36m2\u001b[0m\u001b[0;34m*\u001b[0m\u001b[0msqrt\u001b[0m\u001b[0;34m(\u001b[0m\u001b[0;36m1\u001b[0m\u001b[0;34m/\u001b[0m\u001b[0;34m(\u001b[0m\u001b[0;36m1\u001b[0m\u001b[0;34m+\u001b[0m\u001b[0mzlens\u001b[0m\u001b[0;34m)\u001b[0m\u001b[0;34m)\u001b[0m\u001b[0;34m)\u001b[0m\u001b[0;34m\u001b[0m\u001b[0m\n\u001b[0;32m----> 7\u001b[0;31m \u001b[0;32mprint\u001b[0m \u001b[0mdplens\u001b[0m\u001b[0;34m\u001b[0m\u001b[0m\n\u001b[0m",
      "\u001b[0;31mNameError\u001b[0m: name 'dplens' is not defined"
     ]
    }
   ],
   "source": [
    "c = (const.c.to('km/s'))\n",
    "G = (const.G.to('m3/(kg s2)'))\n",
    "Ho = 68 * u.Mpc\n",
    "zlens = 0.5\n",
    "Constant= c/Ho\n",
    "Dl = Constant * (2 - 2*sqrt(1/(1+zlens)))\n",
    "print dplens"
   ]
  },
  {
   "cell_type": "code",
   "execution_count": null,
   "metadata": {
    "collapsed": false
   },
   "outputs": [],
   "source": [
    "zsource = 2.0\n",
    "Ds = Constant * (2 - 2*sqrt(1/(1+zsource)))\n",
    "print dpsource"
   ]
  },
  {
   "cell_type": "markdown",
   "metadata": {
    "collapsed": false
   },
   "source": [
    "# Use Taylor method to approximate equation for redshift of lens and source."
   ]
  },
  {
   "cell_type": "code",
   "execution_count": null,
   "metadata": {
    "collapsed": false
   },
   "outputs": [],
   "source": [
    "equat1 = [2 - 2*sqrt(1/(1+zlens))]"
   ]
  },
  {
   "cell_type": "code",
   "execution_count": null,
   "metadata": {
    "collapsed": false
   },
   "outputs": [],
   "source": [
    "def f(z):\n",
    "    return 2 - 2*sqrt(1/(1+z))\n",
    "print f(0.5)\n",
    "T = taylor(f(z))"
   ]
  },
  {
   "cell_type": "code",
   "execution_count": null,
   "metadata": {
    "collapsed": false
   },
   "outputs": [],
   "source": [
    "import sympy as sy\n",
    "z = sy.Symbol('z')\n",
    "f = 2 - 2*(1/(1+z)**(1/2))\n",
    "\n",
    "def taylor(function,z0,n):\n",
    "    i = 0\n",
    "    p = 0\n",
    "    while i <= n:\n",
    "        p = p + (function.diff(z,i).subs(z,z0))/(factorial(i))*(z-z0)**i\n",
    "        i += 1\n",
    "    return p\n",
    "print p"
   ]
  },
  {
   "cell_type": "code",
   "execution_count": null,
   "metadata": {
    "collapsed": false
   },
   "outputs": [],
   "source": [
    "def f(z):\n",
    "    return 2 - 2*sqrt(1/(1+z))\n",
    "print f(0.5)"
   ]
  },
  {
   "cell_type": "markdown",
   "metadata": {
    "collapsed": true
   },
   "source": [
    "# If I have the Einstein Radius I can calculate the mass of the lens in a matter only universe after taking account for the calculation of distance using time delays. "
   ]
  },
  {
   "cell_type": "code",
   "execution_count": null,
   "metadata": {
    "collapsed": false
   },
   "outputs": [],
   "source": [
    "Einstein_Radius = sqrt((4*G*m/c**2)*(Dl+Ds/Dl*Ds));\n",
    "    if Einstein_Radius = 2\n",
    "    return m"
   ]
  },
  {
   "cell_type": "markdown",
   "metadata": {
    "collapsed": true
   },
   "source": [
    "# Calculation of Proper Distance "
   ]
  },
  {
   "cell_type": "code",
   "execution_count": 41,
   "metadata": {
    "collapsed": false
   },
   "outputs": [
    {
     "name": "stdout",
     "output_type": "stream",
     "text": [
      "<function f at 0x10ad54e60>\n"
     ]
    }
   ],
   "source": [
    "from scipy.integrate import quad\n",
    "#Friedmann Equation\n",
    "MassD = 0.3\n",
    "DMD = 0.7\n",
    "z=0.5\n",
    "a = (1/1+z)\n",
    "def f(a):\n",
    "      Ho*[(MassD/a)+(DMD*a**2)]**(1/2)"
   ]
  },
  {
   "cell_type": "code",
   "execution_count": 25,
   "metadata": {
    "collapsed": false,
    "scrolled": true
   },
   "outputs": [
    {
     "name": "stdout",
     "output_type": "stream",
     "text": [
      "[ -2.20435631e+03   2.44732713e-11] km / (Mpc s)\n"
     ]
    }
   ],
   "source": [
    "#Distance Proper Integral\n",
    "def integrand(a,c):\n",
    "    return 1/a*b\n",
    "Dp = (c/Ho)*quad(integrand,a,1,args=(a))\n",
    "print Dp"
   ]
  },
  {
   "cell_type": "code",
   "execution_count": null,
   "metadata": {
    "collapsed": false
   },
   "outputs": [],
   "source": []
  }
 ],
 "metadata": {
  "kernelspec": {
   "display_name": "Python 2",
   "language": "python",
   "name": "python2"
  },
  "language_info": {
   "codemirror_mode": {
    "name": "ipython",
    "version": 2
   },
   "file_extension": ".py",
   "mimetype": "text/x-python",
   "name": "python",
   "nbconvert_exporter": "python",
   "pygments_lexer": "ipython2",
   "version": "2.7.13"
  }
 },
 "nbformat": 4,
 "nbformat_minor": 2
}
