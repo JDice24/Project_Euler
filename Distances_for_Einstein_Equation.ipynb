{
 "cells": [
  {
   "cell_type": "code",
   "execution_count": 185,
   "metadata": {
    "collapsed": false
   },
   "outputs": [],
   "source": [
    "import scipy as sp\n",
    "import scipy.integrate as integrate\n",
    "from scipy import constants\n",
    "import math\n",
    "import scipy.special as special\n",
    "from scipy.integrate import quad\n",
    "from decimal import *\n",
    "getcontext().prec = 8"
   ]
  },
  {
   "cell_type": "code",
   "execution_count": 186,
   "metadata": {
    "collapsed": false
   },
   "outputs": [
    {
     "name": "stdout",
     "output_type": "stream",
     "text": [
      "6.674e-20\n"
     ]
    }
   ],
   "source": [
    "#Mass of Sun in kg\n",
    "MSun = 1.989e30\n",
    "#Speed of light in km/s\n",
    "c = 3.0e5\n",
    "#Hubble Constant\n",
    "Ho = 68.0\n",
    "#Constant in Mpc\n",
    "Constant = c/Ho\n",
    "#G using cubic meter not cubic km. Converted to km units is divided by 10e9\n",
    "G = 6.674e-20\n",
    "print G"
   ]
  },
  {
   "cell_type": "code",
   "execution_count": 187,
   "metadata": {
    "collapsed": false
   },
   "outputs": [
    {
     "name": "stdout",
     "output_type": "stream",
     "text": [
      "2.949908\n"
     ]
    }
   ],
   "source": [
    "R1 = (2*G*MSun)/(c**2)\n",
    "print R1"
   ]
  },
  {
   "cell_type": "code",
   "execution_count": 188,
   "metadata": {
    "collapsed": false
   },
   "outputs": [
    {
     "data": {
      "text/plain": [
       "0.8724662815512001"
      ]
     },
     "execution_count": 188,
     "metadata": {},
     "output_type": "execute_result"
    }
   ],
   "source": [
    "# Ho constant is added into equation D1 to cells down.\n",
    "def adot(a):\n",
    "    return ((MD/a)+(DD*a**2))**(1.0/2.0)\n",
    "MD=.3\n",
    "DD=.7\n",
    "adot(.667)"
   ]
  },
  {
   "cell_type": "code",
   "execution_count": 189,
   "metadata": {
    "collapsed": false
   },
   "outputs": [],
   "source": [
    "def I(a):\n",
    "    return (1/(a*adot(a)))"
   ]
  },
  {
   "cell_type": "code",
   "execution_count": 190,
   "metadata": {
    "collapsed": false
   },
   "outputs": [
    {
     "name": "stdout",
     "output_type": "stream",
     "text": [
      "1945.5191248\n"
     ]
    }
   ],
   "source": [
    "#This is the Matter + Lamda Flat Universe using MD=.3 and DD=.7.\n",
    "#If we change MD=1 and DD=0 we can get a Dp of 1,619 for Matter Only Flat Universe.\n",
    "zlens = 0.50\n",
    "aminL = 1/(1+zlens)\n",
    "S = quad(I,aminL,1.0)\n",
    "Dl = Constant * S[0]\n",
    "print Dl"
   ]
  },
  {
   "cell_type": "code",
   "execution_count": 191,
   "metadata": {
    "collapsed": false
   },
   "outputs": [
    {
     "name": "stdout",
     "output_type": "stream",
     "text": [
      "5335.90237178\n"
     ]
    }
   ],
   "source": [
    "#obtain Ds \n",
    "zsrc = 2.0\n",
    "aminS = 1/(1+zsrc)\n",
    "S = quad(I,aminS,1.0)\n",
    "Ds = Constant * S[0]\n",
    "print Ds"
   ]
  },
  {
   "cell_type": "code",
   "execution_count": 192,
   "metadata": {
    "collapsed": false
   },
   "outputs": [
    {
     "name": "stdout",
     "output_type": "stream",
     "text": [
      "3390.38324699\n"
     ]
    }
   ],
   "source": [
    "#Calculate comoving Dls\n",
    "Dls = Ds-Dl\n",
    "print Dls"
   ]
  },
  {
   "cell_type": "code",
   "execution_count": 193,
   "metadata": {
    "collapsed": false
   },
   "outputs": [
    {
     "name": "stdout",
     "output_type": "stream",
     "text": [
      "1297.01274986\n",
      "1778.63412393\n",
      "1130.127749\n"
     ]
    }
   ],
   "source": [
    "#For use in Einstein equation we must get Dl, Ds, Dls scaled for moments each\n",
    "#participated in lensing. \n",
    "alens = 1/(1+zlens)\n",
    "asrc = 1/(1+zsrc)\n",
    "Dla = Dl * (alens)\n",
    "Dsa = Ds * (asrc)\n",
    "Dlsa = Dls * (asrc)\n",
    "print Dla\n",
    "print Dsa\n",
    "print Dlsa\n",
    "#multiplying by c/Ho causes it to be in units of Mpc. "
   ]
  },
  {
   "cell_type": "code",
   "execution_count": 198,
   "metadata": {
    "collapsed": false
   },
   "outputs": [
    {
     "name": "stdout",
     "output_type": "stream",
     "text": [
      "4.00281247375e+22\n",
      "5.48918185904e+22\n",
      "3.48777562217e+22\n",
      "1.58736088336e-23\n"
     ]
    }
   ],
   "source": [
    "#Conversion of Distance from Mpc to lightyears, 1 Mpc = 3.262e+6 ly\n",
    "Dla_ly = Dla * 3.262e6\n",
    "Dsa_ly = Dsa * 3.262e6\n",
    "Dlsa_ly = Dlsa * 3.262e6\n",
    "#Conversion of distance from ly to km, 1 ly = 9.461e+12\n",
    "Dla_km = Dla_ly * 9.461e+12\n",
    "Dsa_km = Dsa_ly * 9.461e+12\n",
    "Dlsa_km = Dlsa_ly * 9.461e+12\n",
    "Dist_Eq = Dlsa_km/(Dla_km*Dsa_km)\n",
    "print Dla_km\n",
    "print Dsa_km\n",
    "print Dlsa_km\n",
    "print Dist_Eq"
   ]
  },
  {
   "cell_type": "markdown",
   "metadata": {},
   "source": [
    "#Convertions to solve for Einstein Radius in radians"
   ]
  },
  {
   "cell_type": "code",
   "execution_count": 204,
   "metadata": {
    "collapsed": false
   },
   "outputs": [
    {
     "name": "stdout",
     "output_type": "stream",
     "text": [
      "13648.1712205\n"
     ]
    }
   ],
   "source": [
    "getcontext().prec = 5\n",
    "def EinRad1(MGalaxy):\n",
    "    return ((2*(2*G*MGalaxy*MSun)/(c**2))*(Dist_Eq))**(1.0/2.0)\n",
    "Es=EinRad1(MSun)\n",
    "print EinRad1(MSun)"
   ]
  },
  {
   "cell_type": "markdown",
   "metadata": {},
   "source": [
    "#Einstein Radius in degrees"
   ]
  },
  {
   "cell_type": "code",
   "execution_count": 201,
   "metadata": {
    "collapsed": false
   },
   "outputs": [
    {
     "name": "stdout",
     "output_type": "stream",
     "text": [
      "1.99609958258e-06\n"
     ]
    }
   ],
   "source": [
    "#Convert to arcsec\n",
    "def EinDegrees(EinRad1):\n",
    "    return EinRad1*(180/ sp.pi)*3600\n",
    "Answer = EinDegrees(Es)\n",
    "print Answer"
   ]
  },
  {
   "cell_type": "code",
   "execution_count": 211,
   "metadata": {
    "collapsed": false
   },
   "outputs": [
    {
     "name": "stdout",
     "output_type": "stream",
     "text": [
      "3.06025115594e-06\n"
     ]
    },
    {
     "data": {
      "text/plain": [
       "1.9960995825815897"
      ]
     },
     "execution_count": 211,
     "metadata": {},
     "output_type": "execute_result"
    }
   ],
   "source": [
    "print EinRad1(10**11)\n",
    "Es1 = EinRad1(10**12)\n",
    "EinDegrees(Es1)"
   ]
  },
  {
   "cell_type": "code",
   "execution_count": null,
   "metadata": {
    "collapsed": true
   },
   "outputs": [],
   "source": []
  }
 ],
 "metadata": {
  "kernelspec": {
   "display_name": "Python 2",
   "language": "python",
   "name": "python2"
  },
  "language_info": {
   "codemirror_mode": {
    "name": "ipython",
    "version": 2
   },
   "file_extension": ".py",
   "mimetype": "text/x-python",
   "name": "python",
   "nbconvert_exporter": "python",
   "pygments_lexer": "ipython2",
   "version": "2.7.13"
  }
 },
 "nbformat": 4,
 "nbformat_minor": 2
}
