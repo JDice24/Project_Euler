{
 "cells": [
  {
   "cell_type": "code",
   "execution_count": 108,
   "metadata": {
    "collapsed": false
   },
   "outputs": [],
   "source": [
    "import scipy.integrate as integrate\n",
    "import scipy.special as special\n",
    "from scipy.integrate import quad\n",
    "from decimal import *\n",
    "getcontext().prec = 8"
   ]
  },
  {
   "cell_type": "code",
   "execution_count": 109,
   "metadata": {
    "collapsed": false
   },
   "outputs": [
    {
     "data": {
      "text/plain": [
       "0.8724662815512001"
      ]
     },
     "execution_count": 109,
     "metadata": {},
     "output_type": "execute_result"
    }
   ],
   "source": [
    "def adot(a):\n",
    "    return ((MD/a)+(DD*a**2))**(1.0/2.0)\n",
    "MD=.3\n",
    "DD=.7\n",
    "adot(.667)"
   ]
  },
  {
   "cell_type": "code",
   "execution_count": 110,
   "metadata": {
    "collapsed": false
   },
   "outputs": [
    {
     "name": "stdout",
     "output_type": "stream",
     "text": [
      "4411\n"
     ]
    }
   ],
   "source": [
    "c = 300000\n",
    "Ho = 68\n",
    "Constant = c/Ho\n",
    "print Constant"
   ]
  },
  {
   "cell_type": "code",
   "execution_count": 111,
   "metadata": {
    "collapsed": false
   },
   "outputs": [
    {
     "name": "stdout",
     "output_type": "stream",
     "text": [
      "<function I at 0x1116842a8>\n"
     ]
    }
   ],
   "source": [
    "def I(a):\n",
    "    return (1/(a*adot(a)))\n",
    "print I"
   ]
  },
  {
   "cell_type": "code",
   "execution_count": 112,
   "metadata": {
    "collapsed": false
   },
   "outputs": [
    {
     "name": "stdout",
     "output_type": "stream",
     "text": [
      "1945.18190148\n"
     ]
    }
   ],
   "source": [
    "#This is the Matter + Lamda Flat Universe using MD=.4 and DD=.7.\n",
    "#If we change MD=1 and DD=0 we can get a Dp for Matter Only Flat Universe.\n",
    "z = 0.50\n",
    "amin = 1/(1+z)\n",
    "S = quad(I,amin,1.0)\n",
    "Dl = Constant * S[0]\n",
    "print Dl"
   ]
  },
  {
   "cell_type": "code",
   "execution_count": 121,
   "metadata": {
    "collapsed": false
   },
   "outputs": [
    {
     "name": "stdout",
     "output_type": "stream",
     "text": [
      "14578.6894793\n"
     ]
    }
   ],
   "source": [
    "#obtain Ds and Dls\n",
    "z = 2\n",
    "amin = 1/(1+z)\n",
    "S = quad(I,amin,1.0)\n",
    "Ds = Constant * S[0]\n",
    "print Ds"
   ]
  },
  {
   "cell_type": "code",
   "execution_count": 122,
   "metadata": {
    "collapsed": false
   },
   "outputs": [
    {
     "name": "stdout",
     "output_type": "stream",
     "text": [
      "12633.5075778\n"
     ]
    }
   ],
   "source": [
    "#Calculate comoving Dls\n",
    "Dls = Ds-Dl\n",
    "print Dls"
   ]
  },
  {
   "cell_type": "code",
   "execution_count": 134,
   "metadata": {
    "collapsed": false
   },
   "outputs": [
    {
     "name": "stdout",
     "output_type": "stream",
     "text": [
      "1296.78793432\n",
      "4859.56315977\n",
      "4211.16919261\n"
     ]
    }
   ],
   "source": [
    "#For use in Einstein equation we must get Dl, Ds, Dls scaled for moments each\n",
    "#participated in lensing. \n",
    "zlens=.5\n",
    "zsrc = 2.0\n",
    "alens = 1/(1+zlens)\n",
    "asrc = 1/(1+zsrc)\n",
    "Dla = Dl * (alens)\n",
    "Dsa = Ds * (asrc)\n",
    "Dlsa = Dls * (asrc)\n",
    "print Dla\n",
    "print Dsa\n",
    "print Dlsa"
   ]
  },
  {
   "cell_type": "code",
   "execution_count": 136,
   "metadata": {
    "collapsed": false
   },
   "outputs": [
    {
     "data": {
      "text/plain": [
       "770.5631719188915"
      ]
     },
     "execution_count": 136,
     "metadata": {},
     "output_type": "execute_result"
    }
   ],
   "source": [
    "def EinRad(m):\n",
    "    return ((4*G*m/c**2)*(Dla+Dsa/(Dla*Dsa)))**(1./2.)\n",
    "G = 6.674e10\n",
    "f(1.8)"
   ]
  },
  {
   "cell_type": "code",
   "execution_count": null,
   "metadata": {
    "collapsed": true
   },
   "outputs": [],
   "source": []
  },
  {
   "cell_type": "code",
   "execution_count": null,
   "metadata": {
    "collapsed": true
   },
   "outputs": [],
   "source": []
  },
  {
   "cell_type": "code",
   "execution_count": null,
   "metadata": {
    "collapsed": true
   },
   "outputs": [],
   "source": []
  }
 ],
 "metadata": {
  "kernelspec": {
   "display_name": "Python 2",
   "language": "python",
   "name": "python2"
  },
  "language_info": {
   "codemirror_mode": {
    "name": "ipython",
    "version": 2
   },
   "file_extension": ".py",
   "mimetype": "text/x-python",
   "name": "python",
   "nbconvert_exporter": "python",
   "pygments_lexer": "ipython2",
   "version": "2.7.13"
  }
 },
 "nbformat": 4,
 "nbformat_minor": 2
}
